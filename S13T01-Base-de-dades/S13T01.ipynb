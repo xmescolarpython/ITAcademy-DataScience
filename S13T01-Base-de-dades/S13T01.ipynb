{
 "cells": [
  {
   "cell_type": "code",
   "execution_count": null,
   "metadata": {},
   "outputs": [],
   "source": [
    "#S13 T01: Bases de dades relacionals"
   ]
  },
  {
   "cell_type": "code",
   "execution_count": null,
   "metadata": {},
   "outputs": [],
   "source": [
    "#Nivell 1"
   ]
  },
  {
   "cell_type": "code",
   "execution_count": null,
   "metadata": {},
   "outputs": [],
   "source": [
    "#Exercici 1\n",
    "#Crea una base relacional d’exemple utilitzant un document de text o a mà. \n",
    "#Dissenya-la perquè contingui les següents taules, i estableix les relacions \n",
    "#que consideris necessàries entre elles:\n",
    "#\n",
    "#-\tTaula de compres (transaccions)\n",
    "#-\tTaula d’establiments\n",
    "#-\tTaula de treballadors\n",
    "#-\tTaula de clients\n",
    "#-\tTaula de productes\n",
    "#-\tTaula de tipus de productes\n",
    "#\n",
    "#Defineix les propietats de les relacions (1:1, 1:n, n:n), i crea algunes de les variables que podrien contenir, per exemple:\n",
    "#\n",
    "#Taula d’establiments\n",
    "#\n",
    "#-\tIDestabliment (unique key)\n",
    "#-\tNom\n",
    "#-\tLocalització\n",
    "#-\tSuperfície"
   ]
  },
  {
   "cell_type": "code",
   "execution_count": null,
   "metadata": {},
   "outputs": [],
   "source": [
    "#TAULES:"
   ]
  },
  {
   "cell_type": "code",
   "execution_count": null,
   "metadata": {},
   "outputs": [],
   "source": [
    "#Transaccions:\n",
    "#\tIDtransaccio (primary key)\n",
    "#\tCodestabliment \n",
    "#\tCodclient\n",
    "#\tCodproducte\n",
    "#\tDatatransaccio\n",
    "#\tImport\n",
    "#\tIVA"
   ]
  },
  {
   "cell_type": "code",
   "execution_count": null,
   "metadata": {},
   "outputs": [],
   "source": [
    "#Establiments:\n",
    "#\tIDestabliment (unique key)\n",
    "#\tNom\n",
    "#\tLocalització\n",
    "#\tSuperfície "
   ]
  },
  {
   "cell_type": "code",
   "execution_count": null,
   "metadata": {},
   "outputs": [],
   "source": [
    "#Treballadors:\n",
    "#\tIDtreballador (unique key)\n",
    "#\tCodestabliment\n",
    "#\tDNI\n",
    "#\tNom\n",
    "#\tCognoms\n",
    "#\tAdreça\n",
    "#\tCiutat\n",
    "#\tData Inici\n",
    "#\tData Fi"
   ]
  },
  {
   "cell_type": "code",
   "execution_count": null,
   "metadata": {},
   "outputs": [],
   "source": [
    "#Clients:\n",
    "#\tIDclient (uniq\tkey)\n",
    "#\tDNI\n",
    "#\tNom\n",
    "#\tCognoms\n",
    "#\tAdreça\n",
    "#\tCiutat"
   ]
  },
  {
   "cell_type": "code",
   "execution_count": null,
   "metadata": {},
   "outputs": [],
   "source": [
    "#Productes:\n",
    "#\tIDproducte (unique key)\n",
    "#\tCodtipusProducte\n",
    "#\tNomProducte\n",
    "#\tDescrip\n",
    "#\tDataEntrada\n",
    "#\tDataSortida\n",
    "#\tPreu"
   ]
  },
  {
   "cell_type": "code",
   "execution_count": null,
   "metadata": {},
   "outputs": [],
   "source": [
    "#Tipus de productes:\n",
    "#\tIDtipusProducte (unique key)\n",
    "#\tDescripcio\n",
    "#\tProcedencia  "
   ]
  },
  {
   "cell_type": "code",
   "execution_count": null,
   "metadata": {},
   "outputs": [],
   "source": [
    "#RELACIONS:\n",
    "1 establiment genera N transaccions.\n",
    "1 establiment té N clients.\n",
    "1 establiment té N treballadors.\n",
    "1 client realitza N transaccions.\n",
    "1 establiment ofereix N productes.\n",
    "1 producte avasta N tipus de productes."
   ]
  },
  {
   "cell_type": "code",
   "execution_count": null,
   "metadata": {},
   "outputs": [],
   "source": [
    "#Nivell 2"
   ]
  },
  {
   "cell_type": "code",
   "execution_count": null,
   "metadata": {},
   "outputs": [],
   "source": [
    "#Exercici 2\n",
    "#Utilitza un programa de creació de diagrames entitat-relació com http://dia-installer.de per crear el diagrama."
   ]
  },
  {
   "cell_type": "code",
   "execution_count": null,
   "metadata": {},
   "outputs": [],
   "source": [
    "#Fitxer Diagrama BDRelacional a Github."
   ]
  },
  {
   "cell_type": "code",
   "execution_count": null,
   "metadata": {},
   "outputs": [],
   "source": [
    "#Nivell 3"
   ]
  },
  {
   "cell_type": "code",
   "execution_count": null,
   "metadata": {},
   "outputs": [],
   "source": [
    "#Exercici 3\n",
    "#Utilitza el Workbench de MySQL per crear un model relacional. "
   ]
  },
  {
   "cell_type": "code",
   "execution_count": null,
   "metadata": {},
   "outputs": [],
   "source": [
    "#Fitxer Model BDRelacional a Github."
   ]
  }
 ],
 "metadata": {
  "kernelspec": {
   "display_name": "Python 3",
   "language": "python",
   "name": "python3"
  },
  "language_info": {
   "codemirror_mode": {
    "name": "ipython",
    "version": 3
   },
   "file_extension": ".py",
   "mimetype": "text/x-python",
   "name": "python",
   "nbconvert_exporter": "python",
   "pygments_lexer": "ipython3",
   "version": "3.8.3"
  }
 },
 "nbformat": 4,
 "nbformat_minor": 4
}
