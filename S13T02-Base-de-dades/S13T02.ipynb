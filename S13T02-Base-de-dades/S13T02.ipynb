{
 "cells": [
  {
   "cell_type": "code",
   "execution_count": null,
   "metadata": {},
   "outputs": [],
   "source": [
    "#S13 T02: Base de dades MySQL"
   ]
  },
  {
   "cell_type": "code",
   "execution_count": null,
   "metadata": {},
   "outputs": [],
   "source": [
    "#Nivell 1"
   ]
  },
  {
   "cell_type": "code",
   "execution_count": null,
   "metadata": {},
   "outputs": [],
   "source": [
    "#Exercici 1\n",
    "#Crea una base de dades relacionals senzilla utilitzant MySQL(https://www.mysql.com/) i connecta-la a Python"
   ]
  },
  {
   "cell_type": "code",
   "execution_count": 4,
   "metadata": {},
   "outputs": [],
   "source": [
    "#Llibreries import\n",
    "import mysql.connector"
   ]
  },
  {
   "cell_type": "code",
   "execution_count": null,
   "metadata": {},
   "outputs": [],
   "source": [
    "#Establim la connexió\n",
    "conn = mysql.connector.connect(user='root', password='root', host='127.0.0.1')"
   ]
  },
  {
   "cell_type": "code",
   "execution_count": null,
   "metadata": {},
   "outputs": [],
   "source": [
    "#Creació d'un cursor \n",
    "cursor = conn.cursor()"
   ]
  },
  {
   "cell_type": "code",
   "execution_count": null,
   "metadata": {},
   "outputs": [],
   "source": [
    "#Si existeix previament la base de dades la esborrem.\n",
    "cursor.execute(\"DROP database IF EXISTS Explotacions\")"
   ]
  },
  {
   "cell_type": "code",
   "execution_count": null,
   "metadata": {},
   "outputs": [],
   "source": [
    "#Preparació un query per crear la base de dades\n",
    "sql = \"CREATE database Explotacions\";"
   ]
  },
  {
   "cell_type": "code",
   "execution_count": null,
   "metadata": {},
   "outputs": [],
   "source": [
    "#Creació de la base de dades\n",
    "cursor.execute(sql)"
   ]
  },
  {
   "cell_type": "code",
   "execution_count": null,
   "metadata": {},
   "outputs": [],
   "source": [
    "#Mostrem les bases de dades \n",
    "print(\"Llista de base de dades: \")\n",
    "cursor.execute(\"SHOW DATABASES\")\n",
    "print(cursor.fetchall())"
   ]
  },
  {
   "cell_type": "code",
   "execution_count": null,
   "metadata": {},
   "outputs": [],
   "source": [
    "#Creació de taula Transaccio\n",
    "sql ='''CREATE TABLE Transaccio(\n",
    "   IDtransaccio INT AUTO_INCREMENT PRIMARY KEY, \n",
    "   Codestabliment INT UNIQUE,\n",
    "   Codclient INT UNIQUE,\n",
    "   Codproducte INT UNIQUE,\n",
    "   Datatransaccio DATE,\n",
    "   Import FLOAT,\n",
    "   IVA FLOAT,\n",
    "   INDEX idx1 ((IDtransaccio + Codestabliment + Codclient + Codproducte))\n",
    ")'''\n",
    "\n",
    "cursor.execute(sql)"
   ]
  },
  {
   "cell_type": "code",
   "execution_count": null,
   "metadata": {},
   "outputs": [],
   "source": [
    "#Creació de taula Client\n",
    "sql ='''CREATE TABLE Client(\n",
    "   IDClient INT AUTO_INCREMENT PRIMARY KEY, \n",
    "   DNI VARCHAR(45),\n",
    "   Nom VARCHAR(45) NOT NULL,\n",
    "   Cognoms VARCHAR(45) NOT NULL,\n",
    "   Adreça VARCHAR(45) NOT NULL,\n",
    "   Ciutat VARCHAR(45) NOT NULL,\n",
    "   INDEX idx2 ((IDClient))\n",
    ")'''\n",
    "\n",
    "cursor.execute(sql)"
   ]
  },
  {
   "cell_type": "code",
   "execution_count": null,
   "metadata": {},
   "outputs": [],
   "source": [
    "#Creació de taula Establiment\n",
    "sql ='''CREATE TABLE Establiment(\n",
    "   IDEstabliment INT AUTO_INCREMENT PRIMARY KEY, \n",
    "   Nom VARCHAR(45) NOT NULL,\n",
    "   Localitzacio VARCHAR(45) NOT NULL,\n",
    "   Superficie FLOAT,\n",
    "   INDEX idx3 ((IDEstabliment))\n",
    ")'''\n",
    "\n",
    "cursor.execute(sql)"
   ]
  },
  {
   "cell_type": "code",
   "execution_count": null,
   "metadata": {},
   "outputs": [],
   "source": [
    "#Creació de taula Treballador\n",
    "sql ='''CREATE TABLE Treballador(\n",
    "   IDTreballador INT AUTO_INCREMENT PRIMARY KEY, \n",
    "   Codestabliment INT UNIQUE,\n",
    "   DNI VARCHAR(45) NOT NULL,\n",
    "   Nom VARCHAR(45) NOT NULL,\n",
    "   Cognoms VARCHAR(45) NOT NULL,\n",
    "   Adreça VARCHAR(45) NOT NULL,\n",
    "   Ciutat VARCHAR(45) NOT NULL,\n",
    "   DataInici DATE,\n",
    "   DataFi DATE,\n",
    "   INDEX idx4 ((IDTreballador + Codestabliment))\n",
    ")'''\n",
    "\n",
    "cursor.execute(sql)"
   ]
  },
  {
   "cell_type": "code",
   "execution_count": null,
   "metadata": {},
   "outputs": [],
   "source": [
    "#Creació de taula Producte\n",
    "sql ='''CREATE TABLE Producte(\n",
    "   IDProducte INT AUTO_INCREMENT PRIMARY KEY, \n",
    "   CodtipusProducte INT UNIQUE,\n",
    "   NomProducte VARCHAR(45) NOT NULL,\n",
    "   Descrip VARCHAR(45) NOT NULL,\n",
    "   DataEntrada DATE,\n",
    "   DataSortida DATE,\n",
    "   Preu FLOAT,\n",
    "   INDEX idx5 ((IDProducte + CodtipusProducte))\n",
    ")'''\n",
    "\n",
    "cursor.execute(sql)"
   ]
  },
  {
   "cell_type": "code",
   "execution_count": null,
   "metadata": {},
   "outputs": [],
   "source": [
    "#Creació de taula TipusdeProducte\n",
    "sql ='''CREATE TABLE TipusdeProducte(\n",
    "   IDTipusdeProducte INT AUTO_INCREMENT PRIMARY KEY, \n",
    "   Descripcio VARCHAR(45) NOT NULL,\n",
    "   Procedencia VARCHAR(45) NOT NULL,\n",
    "   INDEX idx6 ((IDTipusdeProducte))\n",
    ")'''\n",
    "\n",
    "cursor.execute(sql)"
   ]
  },
  {
   "cell_type": "code",
   "execution_count": null,
   "metadata": {},
   "outputs": [],
   "source": [
    "#Inserció de dades a la taula Transacció\n",
    "sql = '''INSERT INTO Transaccio (Datatransaccio, Import, IVA) VALUES (%d, %d, %d)'''\n",
    "values = (\"02/02/2022\", 150, 25)\n",
    "cursor.execute(sql, values)\n",
    "mydb.commit()"
   ]
  },
  {
   "cell_type": "code",
   "execution_count": null,
   "metadata": {},
   "outputs": [],
   "source": [
    "#Inserció de dades a la taula Client\n",
    "sql = '''INSERT INTO Client (DNI, Nom, Cognoms, Adreça, Ciutat) VALUES (%s, %s, %s, %s, %s)'''\n",
    "values = (\"36120450-J\", \"Pep\",\"Ventura\",\"Carrer Major 1\", \"Sabadell\")\n",
    "cursor.execute(sql, values)\n",
    "mydb.commit()"
   ]
  },
  {
   "cell_type": "code",
   "execution_count": null,
   "metadata": {},
   "outputs": [],
   "source": [
    "#Finalitza la connexió\n",
    "conn.close()"
   ]
  },
  {
   "cell_type": "code",
   "execution_count": null,
   "metadata": {},
   "outputs": [],
   "source": [
    "#Nivell 2"
   ]
  },
  {
   "cell_type": "code",
   "execution_count": null,
   "metadata": {},
   "outputs": [],
   "source": [
    "#Exercici 2\n",
    "#Mostra que pots carregar algunes consultes senzilles a un Pandas Dataframe."
   ]
  },
  {
   "cell_type": "code",
   "execution_count": null,
   "metadata": {},
   "outputs": [],
   "source": [
    "#Establim la connexió\n",
    "conn = mysql.connector.connect(user='root', password='root', host='127.0.0.1', database = 'Explotacions')"
   ]
  },
  {
   "cell_type": "code",
   "execution_count": null,
   "metadata": {},
   "outputs": [],
   "source": [
    "#Creació d'un cursor \n",
    "cursor = conn.cursor()"
   ]
  },
  {
   "cell_type": "code",
   "execution_count": null,
   "metadata": {},
   "outputs": [],
   "source": [
    "#Preparació un query per la taula Transaccio\n",
    "sql = '''SELECT * FROM Transaccio''';"
   ]
  },
  {
   "cell_type": "code",
   "execution_count": null,
   "metadata": {},
   "outputs": [],
   "source": [
    "cursor.execute(sql)"
   ]
  },
  {
   "cell_type": "code",
   "execution_count": null,
   "metadata": {},
   "outputs": [],
   "source": [
    "#Preparació un query per la taula Client\n",
    "sql = '''SELECT * FROM Client''';"
   ]
  },
  {
   "cell_type": "code",
   "execution_count": null,
   "metadata": {},
   "outputs": [],
   "source": [
    "cursor.execute(sql)"
   ]
  },
  {
   "cell_type": "code",
   "execution_count": null,
   "metadata": {},
   "outputs": [],
   "source": [
    "#Finalitza la connexió\n",
    "conn.close()"
   ]
  },
  {
   "cell_type": "code",
   "execution_count": null,
   "metadata": {},
   "outputs": [],
   "source": [
    "#Nivell 3"
   ]
  },
  {
   "cell_type": "code",
   "execution_count": null,
   "metadata": {},
   "outputs": [],
   "source": [
    "#Exercici 3\n",
    "#Genera algun gràfic que resumeixi les dades. "
   ]
  }
 ],
 "metadata": {
  "kernelspec": {
   "display_name": "Python 3",
   "language": "python",
   "name": "python3"
  },
  "language_info": {
   "codemirror_mode": {
    "name": "ipython",
    "version": 3
   },
   "file_extension": ".py",
   "mimetype": "text/x-python",
   "name": "python",
   "nbconvert_exporter": "python",
   "pygments_lexer": "ipython3",
   "version": "3.8.3"
  }
 },
 "nbformat": 4,
 "nbformat_minor": 4
}
